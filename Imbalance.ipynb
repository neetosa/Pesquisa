{
 "cells": [
  {
   "cell_type": "code",
   "execution_count": 24,
   "metadata": {},
   "outputs": [],
   "source": [
    "import numpy as np\n",
    "import matplotlib.pyplot as plt\n",
    "import scipy as sci"
   ]
  },
  {
   "cell_type": "code",
   "execution_count": 25,
   "metadata": {},
   "outputs": [],
   "source": [
    "# Função delta\n",
    "\n",
    "def d(n,m):\n",
    "  if n == m:\n",
    "    return 1\n",
    "  else:\n",
    "    return 0"
   ]
  },
  {
   "cell_type": "code",
   "execution_count": 26,
   "metadata": {},
   "outputs": [],
   "source": [
    "# Constantes \n",
    "\n",
    "M = 11\n",
    "P = 4\n",
    "N = M + P\n",
    "\n",
    "dim = int((N+3)*(N+2)*(N+1)/6)\n",
    "\n",
    "a = 1\n",
    "b = 10\n",
    "\n",
    "c = 1\n",
    "e = 3\n",
    "\n",
    "tm = 3.57"
   ]
  },
  {
   "cell_type": "code",
   "execution_count": 27,
   "metadata": {},
   "outputs": [],
   "source": [
    "# Cargas Q1 e Q2\n",
    "\n",
    "Q1 = np.zeros((dim,dim))\n",
    "Q2 = np.zeros((dim,dim))\n",
    "\n",
    "c = 0\n",
    "l = 0\n",
    "\n",
    "for n1 in range(N+1):\n",
    "    for n2 in range(N+1 - n1):\n",
    "        for n3 in range(N+1 -n1 - n2):\n",
    "            n4 = N - n1 - n2 - n3\n",
    "            l = 0\n",
    "            for m1 in range(N+1):\n",
    "                for m2 in range(N+1 - m1):\n",
    "                    for m3 in range(N+1 - m1 - m2):\n",
    "                        m4 = N - m1 - m2 - m3\n",
    "\n",
    "                        Q1[l,c] = 0.5*((n1+n3)*d(n1,m1)*d(n2,m2)*d(n3,m3)*d(n4,m4)\n",
    "                                       -np.sqrt((n1+1)*n3)*d(n1+1,m1)*d(n2,m2)*d(n3-1,m3)*d(n4,m4)\n",
    "                                       -np.sqrt(n1*(n3+1))*d(n1-1,m1)*d(n2,m2)*d(n3+1,m3)*d(n4,m4))\n",
    "\n",
    "                        Q2[l,c] = 0.5*((n2+n4)*d(n1,m1)*d(n2,m2)*d(n3,m3)*d(n4,m4)\n",
    "                                       -np.sqrt((n2+1)*n4)*d(n1,m1)*d(n2+1,m2)*d(n3,m3)*d(n4-1,m4)\n",
    "                                       -np.sqrt(n2*(n4+1))*d(n1,m1)*d(n2-1,m2)*d(n3,m3)*d(n4+1,m4))\n",
    "\n",
    "                        l += 1\n",
    "            c += 1\n",
    "                        "
   ]
  },
  {
   "cell_type": "code",
   "execution_count": 28,
   "metadata": {},
   "outputs": [],
   "source": [
    "# Matrizes\n",
    "\n",
    "N1, N2, N3, N4 = (np.zeros((dim,dim)),\n",
    "                  np.zeros((dim,dim)),\n",
    "                  np.zeros((dim,dim)),\n",
    "                  np.zeros((dim,dim)))\n",
    "\n",
    "c = 0\n",
    "for n1 in range(0,N+1):\n",
    "  for n2 in range(0,N+1-n1):\n",
    "    for n3 in range(0,N+1-n1-n2):\n",
    "      n4 = N - n1 - n2 - n3\n",
    "      l = 0\n",
    "      for m1 in range(0,N+1):\n",
    "        for m2 in range(0,N+1-m1):\n",
    "          for m3 in range(0,N+1-m1-m2):\n",
    "            m4 = N - m1 - m2 - m3\n",
    "                \n",
    "            N1[l,c] = n1*d(m1,n1)*d(m2,n2)*d(m3,n3)*d(m4,n4)\n",
    "            N2[l,c] = n2*d(m1,n1)*d(m2,n2)*d(m3,n3)*d(m4,n4)\n",
    "            N3[l,c] = n3*d(m1,n1)*d(m2,n2)*d(m3,n3)*d(m4,n4)\n",
    "            N4[l,c] = n4*d(m1,n1)*d(m2,n2)*d(m3,n3)*d(m4,n4)\n",
    "            l += 1\n",
    "      c += 1"
   ]
  },
  {
   "cell_type": "markdown",
   "metadata": {},
   "source": [
    "# **Imbalance**\n",
    "\n",
    "Vamos definir os operadores $I_A$ e $I_B$\n",
    "\n",
    "\\begin{align*}\n",
    "    I_A & = \\frac{(N_1 - N_3)}{M} \\\\\n",
    "    I_B & = \\frac{(N_2 - N_4)}{P} \\\\\n",
    "    M &+ P = N\n",
    "\\end{align*}"
   ]
  },
  {
   "cell_type": "code",
   "execution_count": 29,
   "metadata": {},
   "outputs": [],
   "source": [
    "# Imbalance\n",
    "\n",
    "IA = (N1-N3)/M\n",
    "IB = (N2-N4)/P"
   ]
  },
  {
   "cell_type": "markdown",
   "metadata": {},
   "source": [
    "# *Definir os estados*\n",
    "\n",
    "Os vetores com autovalores +1, associados à matriz $I_A$\n",
    "$$ \\ket{M,a,0,b} $$\n",
    "Os vetores com autovalores -1, associados à matriz $I_A$\n",
    "$$\\ket{0,a,M,b}$$\n",
    "Os vetores com autovalores +1, associados à matriz $I_A$\n",
    "$$\\ket{c,P,d,0}$$\n",
    "Os vetores com autovalores -1, associados à matriz $I_B$\n",
    "$$\\ket{c,0,d,P}$$"
   ]
  },
  {
   "cell_type": "code",
   "execution_count": 30,
   "metadata": {},
   "outputs": [],
   "source": [
    "# Estado Ma0b\n",
    "\n",
    "aux, l = 0, 0\n",
    "\n",
    "\n",
    "for n1 in range(N+1):\n",
    "    for n2 in range(N+1-n1):\n",
    "        for n3 in range(N+1 - n1 - n2):\n",
    "            n4 = N - n1 - n2 - n3\n",
    "            if (M==n1 and a==n2 and n3==0 and n4==b):\n",
    "                aux = l\n",
    "            l += 1\n",
    "    \n",
    "Mab = np.zeros((dim,1))\n",
    "Mab[aux,0] = 1.0\n",
    "\n",
    "# Estado 0aMb\n",
    "\n",
    "for n1 in range(N+1):\n",
    "    for n2 in range(N+1-n1):\n",
    "        for n3 in range(N+1 - n1 - n2):\n",
    "            n4 = N - n1 - n2 - n3\n",
    "            if (n1==0 and n2==a and n3==M and n4==b):\n",
    "                aux = l\n",
    "            l += 1\n",
    "    \n",
    "aMb = np.zeros((dim,1))\n",
    "aMb[aux,0] = 1.0\n",
    "\n",
    "# Estado cPd0\n",
    "\n",
    "for n1 in range(N+1):\n",
    "    for n2 in range(N+1-n1):\n",
    "        for n3 in range(N+1 - n1 - n2):\n",
    "            n4 = N - n1 - n2 - n3\n",
    "            if (n1==c and n2==P and n3==e and n4==0):\n",
    "                aux = l\n",
    "            l += 1\n",
    "    \n",
    "cPd = np.zeros((dim,1))\n",
    "cPd[aux,0] = 1.0\n",
    "\n",
    "# Estado c0dP\n",
    "\n",
    "for n1 in range(N+1):\n",
    "    for n2 in range(N+1-n1):\n",
    "        for n3 in range(N+1 - n1 - n2):\n",
    "            n4 = N - n1 - n2 - n3\n",
    "            if (n1==c and n2==0 and n3==e and n4==P):\n",
    "                aux = l\n",
    "            l += 1\n",
    "    \n",
    "cdP = np.zeros((dim,1))\n",
    "cdP[aux,0] = 1.0"
   ]
  },
  {
   "cell_type": "markdown",
   "metadata": {},
   "source": [
    "# *Operadores SWAP*\n",
    "\n",
    "Agora temos que definir os operadores de troca (SWAP)\n",
    "\n",
    "$$V_A = e^{-i\\pi Q_1}$$\n",
    "$$V_B = e^{-i\\pi Q_2}$$"
   ]
  },
  {
   "cell_type": "code",
   "execution_count": 31,
   "metadata": {},
   "outputs": [],
   "source": [
    "VA = sci.linalg.expm(-1j*np.pi*Q1)\n",
    "VB = sci.linalg.expm(-1j*np.pi*Q2)"
   ]
  },
  {
   "cell_type": "markdown",
   "metadata": {},
   "source": [
    "# *Definição dos estados A e B*\n",
    "\n",
    "$$ A_+ = \\frac{1}{\\sqrt{2}}[\\ket{M,a,0,b} + \\ket{0,a,M,b}] $$\n",
    "$$ A_- = \\frac{1}{\\sqrt{2}}[\\ket{M,a,0,b} - \\ket{0,a,M,b}] $$\n",
    "$$ B_+ = \\frac{1}{\\sqrt{2}}[\\ket{c,P,d,0} + \\ket{c,0,d,P}] $$\n",
    "$$ B_- = \\frac{1}{\\sqrt{2}}[\\ket{c,P,d,0} - \\ket{c,0,d,P}] $$"
   ]
  },
  {
   "cell_type": "code",
   "execution_count": 32,
   "metadata": {},
   "outputs": [],
   "source": [
    "# A+ = Ap (Aplus)\n",
    "\n",
    "Ap = (1/np.sqrt(2))*(Mab + aMb)\n",
    "\n",
    "# A- = Am (Aminus)\n",
    "\n",
    "Am = (1/np.sqrt(2))*(Mab - aMb)"
   ]
  },
  {
   "cell_type": "code",
   "execution_count": 33,
   "metadata": {},
   "outputs": [],
   "source": [
    "# B+ = Bp (Bplus)\n",
    "\n",
    "Bp = (1/np.sqrt(2))*(cPd + cdP)\n",
    "\n",
    "# B- = Bm (Bminus)\n",
    "\n",
    "Bm = (1/np.sqrt(2))*(cPd - cdP)"
   ]
  },
  {
   "cell_type": "markdown",
   "metadata": {},
   "source": [
    "# Evolução temporal para o tempo $t_m$\n",
    "\n",
    "Os estados iniciais vão evoluir para os seguintes estados u-NOON;\n",
    "\n",
    "$$ \\ket{M,P,0,0} \\Rightarrow \\ket{\\psi_1} $$\n",
    "$$ \\ket{M,0,0,P} \\Rightarrow \\ket{\\psi_2} $$\n",
    "$$ \\ket{0,P,M,0} \\Rightarrow \\ket{\\psi_3} $$\n",
    "$$ \\ket{0,0,M,P} \\Rightarrow \\ket{\\psi_4} $$\n",
    "\n",
    "onde:\n",
    "\n",
    "$$\\ket{\\psi_1} = \\frac{1}{2}[(-1)^N\\ket{M,P,0,0}+\\ket{M,0,0,P}+\\ket{0,P,M,0}-(-1)^N\\ket{0,0,M,P}] $$\n",
    "$$\\ket{\\psi_2} = \\frac{1}{2}[\\ket{M,P,0,0}+(-1)^N\\ket{M,0,0,P}-(-1)^N\\ket{0,P,M,0}+\\ket{0,0,M,P}] $$\n",
    "$$\\ket{\\psi_3} = \\frac{1}{2}[\\ket{M,P,0,0}-(-1)^N\\ket{M,0,0,P}+(-1)^N\\ket{0,P,M,0}+\\ket{0,0,M,P}] $$\n",
    "$$\\ket{\\psi_4} = \\frac{1}{2}[-(-1)^N\\ket{M,P,0,0}+\\ket{M,0,0,P}+\\ket{0,P,M,0}+(-1)^N\\ket{0,0,M,P}] $$"
   ]
  },
  {
   "cell_type": "code",
   "execution_count": 34,
   "metadata": {},
   "outputs": [],
   "source": [
    "# Estado MP00\n",
    "\n",
    "aux, l = 0, 0\n",
    "\n",
    "for n1 in range(N+1):\n",
    "    for n2 in range(N+1-n1):\n",
    "        for n3 in range(N+1 - n1 - n2):\n",
    "            n4 = N - n1 - n2 - n3\n",
    "            if (n1==M and n2==P and n3==0 and n4==0):\n",
    "                aux = l\n",
    "            l += 1\n",
    "    \n",
    "MP00 = np.zeros((dim,1))\n",
    "MP00[aux,0] = 1.0\n",
    "\n",
    "# Estado M00P\n",
    "\n",
    "aux, l = 0, 0\n",
    "\n",
    "for n1 in range(N+1):\n",
    "    for n2 in range(N+1-n1):\n",
    "        for n3 in range(N+1 - n1 - n2):\n",
    "            n4 = N - n1 - n2 - n3\n",
    "            if (n1==M and n2==0 and n3==0 and n4==P):\n",
    "                aux = l\n",
    "            l += 1\n",
    "    \n",
    "M00P = np.zeros((dim,1))\n",
    "M00P[aux,0] = 1.0\n",
    "\n",
    "# Estado 0PM0\n",
    "\n",
    "aux, l = 0, 0\n",
    "\n",
    "for n1 in range(N+1):\n",
    "    for n2 in range(N+1-n1):\n",
    "        for n3 in range(N+1 - n1 - n2):\n",
    "            n4 = N - n1 - n2 - n3\n",
    "            if (n1==0 and n2==P and n3==M and n4==0):\n",
    "                aux = l\n",
    "            l += 1\n",
    "    \n",
    "PM0 = np.zeros((dim,1))\n",
    "PM0[aux,0] = 1.0\n",
    "\n",
    "# Estado 00MP\n",
    "\n",
    "aux, l = 0, 0\n",
    "\n",
    "for n1 in range(N+1):\n",
    "    for n2 in range(N+1-n1):\n",
    "        for n3 in range(N+1 - n1 - n2):\n",
    "            n4 = N - n1 - n2 - n3\n",
    "            if (n1==0 and n2==0 and n3==M and n4==P):\n",
    "                aux = l\n",
    "            l += 1\n",
    "    \n",
    "MP = np.zeros((dim,1))\n",
    "MP[aux,0] = 1.0"
   ]
  },
  {
   "cell_type": "code",
   "execution_count": 68,
   "metadata": {},
   "outputs": [],
   "source": [
    "# psi1\n",
    "\n",
    "n = (N+1)/2\n",
    "\n",
    "p1 = (1/2)*((-1)**n*MP00+ M00P+PM0+(-1)**(n+1)*MP)\n",
    "\n",
    "# psi2\n",
    "\n",
    "p2 = (1/2)*(MP00+(-1)**n*M00P+(-1)**(n+1)*PM0+MP)\n",
    "\n",
    "# psi3\n",
    "\n",
    "p3 = (1/2)*(MP00+(-1)**(n+1)*M00P+(-1)**n*PM0+MP)\n",
    "\n",
    "# psi4\n",
    "\n",
    "p4 = (1/2)*((-1)**(n+1)*MP00+ M00P+PM0+(-1)**n*MP)"
   ]
  },
  {
   "cell_type": "markdown",
   "metadata": {},
   "source": [
    "# **Evolução temporal do sistema**\n",
    "\n",
    "O estado inicial do sistema é um estado estacionário, mas é possível calcular a evolução temporal do estado e encontrar a função $\\psi(t)$. Vamos isso da seguinte forma.\n",
    "\n",
    "\\begin{equation*}\n",
    "    \\ket{\\psi(t)} = \\sum_{n=0}^N a_n e^{-i\\lambda_nt}\\ket{\\psi_n}\n",
    "\\end{equation*}\n",
    "\n",
    "Onde $\\lambda_n$ e $\\ket{\\lambda_n}$ são os autovalores e autovetores do hamiltoniano do sistema, e $a_n = \\braket{\\lambda_n|\\psi_0}$."
   ]
  },
  {
   "cell_type": "code",
   "execution_count": 13,
   "metadata": {},
   "outputs": [],
   "source": [
    "# Hamiltoniano Geral\n",
    "\n",
    "U = 2*np.pi*19.5\n",
    "J = 2*np.pi*16.2\n",
    "\n",
    "Hint = np.zeros((dim,dim))\n",
    "Htun = np.zeros((dim,dim))\n",
    "\n",
    "l, c = 0, 0\n",
    "\n",
    "for n1 in range(N+1):\n",
    "    for n2 in range(N+1 - n1):\n",
    "        for n3 in range(N+1 -n1 - n2):\n",
    "            n4 = N - n1 - n2 - n3\n",
    "            l = 0\n",
    "            for m1 in range(N+1):\n",
    "                for m2 in range(N+1 - m1):\n",
    "                    for m3 in range(N+1 - m1 - m2):\n",
    "                        m4 = N - m1 - m2 - m3\n",
    "\n",
    "                        Hint[l,c] = ((n1 + n3 - n2- n4)**2)*d(n1,m1)*d(n2,m2)*d(n3,m3)*d(n4,m4)\n",
    "\n",
    "                        Htun[l,c] = ( np.sqrt((n1+1)*n2)*d(n1+1,m1)*d(n2-1,m2)*d(n3,m3)*d(n4,m4) \n",
    "                                     +np.sqrt((n1+1)*n4)*d(n1+1,m1)*d(n2,m2)*d(n3,m3)*d(n4-1,m4) \n",
    "                                     +np.sqrt((n3+1)*n2)*d(n1,m1)*d(n2-1,m2)*d(n3+1,m3)*d(n4,m4) \n",
    "                                     +np.sqrt((n3+1)*n4)*d(n1,m1)*d(n2,m2)*d(n3+1,m3)*d(n4-1,m4) \n",
    "                                     +np.sqrt(n1*(n2+1))*d(n1-1,m1)*d(n2+1,m2)*d(n3,m3)*d(n4,m4) \n",
    "                                     +np.sqrt(n1*(n4+1))*d(n1-1,m1)*d(n2,m2)*d(n3,m3)*d(n4+1,m4) \n",
    "                                     +np.sqrt((n2+1)*n3)*d(n1,m1)*d(n2+1,m2)*d(n3-1,m3)*d(n4,m4) \n",
    "                                     +np.sqrt(n3*(n4+1))*d(n1,m1)*d(n2,m2)*d(n3-1,m3)*d(n4+1,m4))\n",
    "\n",
    "                        l +=1 \n",
    "            c += 1\n",
    "\n",
    "H = -U*Hint-0.5*J*Htun"
   ]
  },
  {
   "cell_type": "code",
   "execution_count": 77,
   "metadata": {},
   "outputs": [],
   "source": [
    "# autovalores e autovetores:\n",
    "\n",
    "lambdan, psi = np.linalg.eig(H)\n",
    "\n",
    "# |psi(t)>:\n",
    "\n",
    "def ket_t(t):\n",
    "  psi_t = np.zeros((dim,1))\n",
    "  for i in range(dim):\n",
    "    bra = psi[:,i].reshape(1,dim)\n",
    "    ket = bra.reshape(dim,1)\n",
    "    cte = np.exp(complex(0, lambdan[i]*t))*(bra@MP)[0,0]\n",
    "    psi_t = psi_t + cte*ket\n",
    "  return psi_t\n",
    "\n",
    "p1t = ket_t(tm)"
   ]
  },
  {
   "cell_type": "code",
   "execution_count": null,
   "metadata": {},
   "outputs": [],
   "source": [
    "# Dados\n",
    "\n",
    "c1 = 0.9317761745617889\n",
    "c2 = 0.9194793370278451\n",
    "c3 = 0.9194793372340334\n",
    "c4 = 0.9317761743741572"
   ]
  },
  {
   "cell_type": "code",
   "execution_count": 78,
   "metadata": {},
   "outputs": [
    {
     "name": "stdout",
     "output_type": "stream",
     "text": [
      "0.9317761743741572\n"
     ]
    }
   ],
   "source": [
    "# comparação\n",
    "\n",
    "c = abs((p1t.reshape((1,dim))@p4)**2)\n",
    "\n",
    "print(c[0,0])"
   ]
  }
 ],
 "metadata": {
  "kernelspec": {
   "display_name": "Python 3.9.12 ('bolsa')",
   "language": "python",
   "name": "python3"
  },
  "language_info": {
   "codemirror_mode": {
    "name": "ipython",
    "version": 3
   },
   "file_extension": ".py",
   "mimetype": "text/x-python",
   "name": "python",
   "nbconvert_exporter": "python",
   "pygments_lexer": "ipython3",
   "version": "3.9.12"
  },
  "orig_nbformat": 4,
  "vscode": {
   "interpreter": {
    "hash": "4a8e01589c3b2eb65bea03033d16ea1ab68b5053c778824bf48ec1280b29ef74"
   }
  }
 },
 "nbformat": 4,
 "nbformat_minor": 2
}
