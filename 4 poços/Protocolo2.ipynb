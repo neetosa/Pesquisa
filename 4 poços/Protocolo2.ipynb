{
 "cells": [
  {
   "cell_type": "code",
   "execution_count": 1,
   "metadata": {},
   "outputs": [],
   "source": [
    "import numpy as np\n",
    "import matplotlib.pyplot as plt\n",
    "import scipy.special as sci\n",
    "import scipy.linalg as la"
   ]
  },
  {
   "cell_type": "code",
   "execution_count": 2,
   "metadata": {},
   "outputs": [],
   "source": [
    "# Função delta\n",
    "\n",
    "def d(n,m):\n",
    "  if n == m:\n",
    "    return 1\n",
    "  else:\n",
    "    return 0"
   ]
  },
  {
   "cell_type": "markdown",
   "metadata": {},
   "source": [
    "# *Dados*\n",
    "\n",
    "M é o número de partículas no qudit A:\n",
    "$$M = 11$$\n",
    "P é o número de partículas no qudit B:\n",
    "$$P = 4$$\n",
    "Com isso o número total de partículas N = M+P\n",
    "$$N = 15$$\n",
    "Dimensão do espaço\n",
    "$$dim = \\frac{(N+3)(N+2)(N+1)}{6}$$\n"
   ]
  },
  {
   "cell_type": "code",
   "execution_count": 3,
   "metadata": {},
   "outputs": [],
   "source": [
    "# Dados\n",
    "\n",
    "M = 0\n",
    "P = 5\n",
    "N = M + P\n",
    "\n",
    "dim = int((N+3)*(N+2)*(N+1)/6)"
   ]
  },
  {
   "cell_type": "markdown",
   "metadata": {},
   "source": [
    "# *Protocolo 2*"
   ]
  },
  {
   "cell_type": "markdown",
   "metadata": {},
   "source": [
    "## Hamiltoniano \n",
    "\n",
    "$$ \\mathcal{H}(\\mu, \\nu) = H + \\mu (N_3 - N_1) + \\nu(N_2 - N_1) $$\n",
    "\n",
    "Sabendo que:\n",
    "\n",
    "$$ H = U(N_1 + N_3 - N_4 - N_2)^2 - \\frac{J}{2}[(a_1^{\\dagger}+a_3^{\\dagger})(a_2+a_4)+(a_2^{\\dagger}+a_4^{\\dagger})(a_1+a_3)]$$"
   ]
  },
  {
   "cell_type": "code",
   "execution_count": 4,
   "metadata": {},
   "outputs": [],
   "source": [
    "# Hamiltoniano \n",
    "\n",
    "U = -2.0\n",
    "J = 1\n",
    "mu = 0\n",
    "nu = 0\n",
    "\n",
    "Hint = np.zeros((dim,dim))\n",
    "Htun = np.zeros((dim,dim))\n",
    "Hq1 = np.zeros((dim,dim))\n",
    "Hq2 = np.zeros((dim,dim))\n",
    "\n",
    "l, c = 0, 0\n",
    "\n",
    "for n1 in range(N+1):\n",
    "    for n2 in range(N+1 - n1):\n",
    "        for n3 in range(N+1 -n1 - n2):\n",
    "            n4 = N - n1 - n2 - n3\n",
    "            l = 0\n",
    "            for m1 in range(N+1):\n",
    "                for m2 in range(N+1 - m1):\n",
    "                    for m3 in range(N+1 - m1 - m2):\n",
    "                        m4 = N - m1 - m2 - m3\n",
    "\n",
    "                        Hint[l,c] = ((n1+n3-n2-n4)**2)*d(n1,m1)*d(n2,m2)*d(n3,m3)*d(n4,m4)\n",
    "\n",
    "                        Htun[l,c] = (np.sqrt((n1+1)*n2)*d(n1+1,m1)*d(n2-1,m2)*d(n3,m3)*d(n4,m4) \n",
    "                                     +np.sqrt((n1+1)*n4)*d(n1+1,m1)*d(n2,m2)*d(n3,m3)*d(n4-1,m4) \n",
    "                                     +np.sqrt((n3+1)*n2)*d(n1,m1)*d(n2-1,m2)*d(n3+1,m3)*d(n4,m4) \n",
    "                                     +np.sqrt((n3+1)*n4)*d(n1,m1)*d(n2,m2)*d(n3+1,m3)*d(n4-1,m4) \n",
    "                                     +np.sqrt(n1*(n2+1))*d(n1-1,m1)*d(n2+1,m2)*d(n3,m3)*d(n4,m4) \n",
    "                                     +np.sqrt(n1*(n4+1))*d(n1-1,m1)*d(n2,m2)*d(n3,m3)*d(n4+1,m4) \n",
    "                                     +np.sqrt((n2+1)*n3)*d(n1,m1)*d(n2+1,m2)*d(n3-1,m3)*d(n4,m4) \n",
    "                                     +np.sqrt(n3*(n4+1))*d(n1,m1)*d(n2,m2)*d(n3-1,m3)*d(n4+1,m4))\n",
    "\n",
    "                        Hq1[l,c] = (n3 - n1)*d(n1,m1)*d(n2,m2)*d(n3,m3)*d(n4,m4)\n",
    "\n",
    "                        Hq2[l,c] = (n2 - n1)*d(n1,m1)*d(n2,m2)*d(n3,m3)*d(n4,m4)\n",
    "\n",
    "                        l +=1 \n",
    "            c += 1\n",
    "\n",
    "H = -U*Hint-0.5*J*Htun + mu*Hq1 + nu*Hq2"
   ]
  },
  {
   "cell_type": "code",
   "execution_count": 34,
   "metadata": {},
   "outputs": [],
   "source": [
    "# Autovetores e autovalores\n",
    "lambdan, psi = la.eigh(H)"
   ]
  },
  {
   "cell_type": "code",
   "execution_count": 35,
   "metadata": {},
   "outputs": [],
   "source": [
    "# Ground State\n",
    "\n",
    "index = 0\n",
    "for i in range(len(lambdan)):\n",
    "    if lambdan[i] == min(lambdan):\n",
    "        break\n",
    "    else:\n",
    "        index += 1\n",
    "    \n",
    "GS = np.conj(psi[:,index].reshape((1,dim)))"
   ]
  },
  {
   "cell_type": "code",
   "execution_count": 121,
   "metadata": {},
   "outputs": [],
   "source": [
    "P = []\n",
    "States = []\n",
    "\n",
    "for i in range(dim):\n",
    "    P.append((abs(GS[0,i]))**2)\n",
    "    States.append(i)"
   ]
  },
  {
   "cell_type": "code",
   "execution_count": 122,
   "metadata": {},
   "outputs": [
    {
     "data": {
      "image/png": "[encoded data removed]",
      "text/plain": [
       "<Figure size 432x288 with 1 Axes>"
      ]
     },
     "metadata": {
      "needs_background": "light"
     },
     "output_type": "display_data"
    }
   ],
   "source": [
    "l = 0\n",
    "(markerline, stemlines, baseline) = plt.stem(States, P, linefmt = \"Gray\")\n",
    "plt.setp(baseline, visible=False)\n",
    "plt.xlabel(\"|n>\")\n",
    "plt.grid(alpha=0.3)\n",
    "plt.ylabel(\"Probability\")\n",
    "for n1 in range(N+1):\n",
    "    for n2 in range(N+1-n1):\n",
    "        for n3 in range(N+1 - n1 - n2):\n",
    "            n4 = N - n1 - n2 - n3\n",
    "            if (P[l] >= 0.01):\n",
    "                plt.text(l, P[l]+0.01, f\"|{n1},{n2},{n3},{n4}>\", rotation = \"vertical\")\n",
    "            l += 1\n",
    "plt.show()"
   ]
  },
  {
   "cell_type": "markdown",
   "metadata": {},
   "source": [
    "## Evolução temporal\n",
    "\n",
    "A evolução temporal do sistema vai ser dado pelo operador:\n",
    "\n",
    "$$\\mathcal{U}(t,\\mu,\\nu) = e^{-itH(\\mu,\\nu)}$$"
   ]
  },
  {
   "cell_type": "code",
   "execution_count": 38,
   "metadata": {},
   "outputs": [],
   "source": [
    "# Evolução temporual\n",
    "\n",
    "def Uv(t,mu,nu):\n",
    "    return la.expm(-1j*t*H)"
   ]
  },
  {
   "cell_type": "markdown",
   "metadata": {},
   "source": [
    "## Ground State\n",
    "\n",
    "Para um valor $N\\approx 10$, o ground state para U<0 no regime ressonante se aproxima de:\n",
    "\n",
    "\\begin{align*}\n",
    "    \\ket{GS'} & = \\frac{1}{\\sqrt{2N!}}\\left [\\left(\\frac{a_1^{\\dagger} + a_3^{\\dagger}}{\\sqrt{2}}\\right)^N + \\left(\\frac{a_2^{\\dagger} + a_4^{\\dagger}}{\\sqrt{2}}\\right)^N \\right]\\ket{vac} \\\\\n",
    "    & = \\frac{1}{\\sqrt{2}}\\sum_{k=0}^N\\sqrt{\\frac{C_k^N}{2^N}}(\\ket{k,0,N-k,0}+\\ket{0,k,0,N-k}) \\\\\n",
    "    & = \\frac{1}{\\sqrt{2^{N+1}}}\\sum_{k=0}^N\\sqrt{C_k^N}(\\ket{k,0,N-k,0}+\\ket{0,k,0,N-k})\n",
    "\\end{align*}"
   ]
  },
  {
   "cell_type": "code",
   "execution_count": 39,
   "metadata": {},
   "outputs": [],
   "source": [
    "# Ground State\n",
    "\n",
    "aux1 = 0 \n",
    "aux2 = 0\n",
    "GSL = np.zeros((dim,1))\n",
    "count = np.zeros((dim,1))\n",
    "\n",
    "for k in range(N+1):\n",
    "    l = 0\n",
    "    cte = np.sqrt((sci.comb(N,k))/(2**(N+1)))\n",
    "    G1 = np.zeros((dim,1))\n",
    "    G2 = np.zeros((dim,1))\n",
    "    for n1 in range(N+1):\n",
    "        for n2 in range(N+1-n1):\n",
    "            for n3 in range(N+1 - n1 - n2):\n",
    "                n4 = N - n1 - n2 - n3\n",
    "                if (n1==k and n2==0 and n3==(N-k) and n4==0):   #k0(N-k)0\n",
    "                    aux1 = l\n",
    "                elif (n1==0 and n2==k and n3==0 and n4==(N-k)):   #0k0(N-k)\n",
    "                    aux2 = l\n",
    "                l += 1\n",
    "    G1[aux1,0] = 1.0\n",
    "    G2[aux2,0] = 1.0\n",
    "    count = cte*(G1+G2)\n",
    "    GSL = GSL + count"
   ]
  },
  {
   "cell_type": "code",
   "execution_count": 126,
   "metadata": {},
   "outputs": [],
   "source": [
    "P = []\n",
    "States = []\n",
    "\n",
    "for i in range(dim):\n",
    "    P.append((abs(GSL[i,0]))**2)\n",
    "    States.append(i)"
   ]
  },
  {
   "cell_type": "code",
   "execution_count": 128,
   "metadata": {},
   "outputs": [
    {
     "data": {
      "image/png": "[encoded data removed]",
      "text/plain": [
       "<Figure size 432x288 with 1 Axes>"
      ]
     },
     "metadata": {
      "needs_background": "light"
     },
     "output_type": "display_data"
    }
   ],
   "source": [
    "l = 0\n",
    "(markerline, stemlines, baseline) = plt.stem(States, P, linefmt = \"Gray\")\n",
    "plt.setp(baseline, visible=False)\n",
    "plt.xlabel(\"|n>\")\n",
    "plt.grid(alpha=0.3)\n",
    "plt.ylabel(\"Probability\")\n",
    "for n1 in range(N+1):\n",
    "    for n2 in range(N+1-n1):\n",
    "        for n3 in range(N+1 - n1 - n2):\n",
    "            n4 = N - n1 - n2 - n3\n",
    "            if (P[l] >= 0.01):\n",
    "                plt.text(l, P[l]+0.01, f\"|{n1},{n2},{n3},{n4}>\", rotation = \"vertical\")\n",
    "            l += 1\n",
    "plt.ylim(top = 0.20)\n",
    "plt.show()"
   ]
  },
  {
   "cell_type": "code",
   "execution_count": 90,
   "metadata": {},
   "outputs": [],
   "source": [
    "F.append((abs(GS.dot(GSL))[0,0])**2)\n",
    "UJ.append(abs(U/J))"
   ]
  },
  {
   "cell_type": "code",
   "execution_count": 257,
   "metadata": {},
   "outputs": [
    {
     "data": {
      "image/png": "[encoded data removed]",
      "text/plain": [
       "<Figure size 432x288 with 1 Axes>"
      ]
     },
     "metadata": {
      "needs_background": "light"
     },
     "output_type": "display_data"
    }
   ],
   "source": [
    "plt.plot(UJ, F, 'b-', lw = 1)\n",
    "plt.grid(alpha=0.3)\n",
    "plt.xlabel(\"|U/J|\")\n",
    "plt.ylabel(r'Fidelidade')\n",
    "plt.show()"
   ]
  },
  {
   "cell_type": "markdown",
   "metadata": {},
   "source": [
    "## *$\\ket{\\psi(\\theta,\\phi)}$*\n",
    "\n",
    "A quebra de inegrabilidade será dado por \n",
    "\n",
    "$$\\ket{\\psi(\\theta,\\phi)} = \\mathcal{U}(\\tau,0,0)\\mathcal{U}(t,\\mu,\\nu)\\ket{GS} $$\n",
    "\n",
    "O valor teórico esperado é dado por,\n",
    "\n",
    "$$\\ket{\\psi(\\theta,\\phi)} = \\frac{1}{\\sqrt{2}}\\left [(c_{\\theta}a_1^{\\dagger} - s_{\\theta}sgn(\\mu)a_3^{\\dagger})^N + (c_{\\phi}a_2^{\\dagger} - s_{\\phi}sgn(\\nu)a_4^{\\dagger})^N \\right ]\\ket{vac} $$\n",
    "\n",
    "onde:\n",
    "\n",
    "\\begin{align*}\n",
    "    c_x & = cos\\left (\\frac{x}{2} - sgn(\\gamma _x)\\frac{\\pi}{4} \\right), \\quad\\quad x = \\theta, \\phi \\\\\n",
    "    s_x & = sin\\left (\\frac{x}{2} - sgn(\\gamma _x)\\frac{\\pi}{4} \\right), \\quad\\quad \\gamma _{\\theta} = \\mu, \\gamma_{\\phi} = \\nu\n",
    "\\end{align*}\n",
    "\n",
    "Fazendo a expansão binomial $(a+b)^N = \\sum_{k=0}^N C_k^N a^{N-k}b^k$, obtemos que:\n",
    "\n",
    "$$\\ket{\\psi(\\theta,\\phi)} = \\frac{1}{\\sqrt{2}}\\sum_{k=0}^N\\sqrt{\\frac{C_k^N}{N!}}[(c_{\\theta})^{N-k}(-s_{\\theta}sgn(\\mu))^k\\ket{N-k,0,k,0} +(c_{\\phi})^{N-k}(-s_{\\phi}sgn(\\nu))^k\\ket{0,N-k,0,k} ]$$"
   ]
  },
  {
   "cell_type": "code",
   "execution_count": 142,
   "metadata": {},
   "outputs": [],
   "source": [
    "# Psi Analítico\n",
    "\n",
    "w = J**2/(4*(np.abs(U))*(N-1))\n",
    "tal = np.pi/(2*w)\n",
    "\n",
    "t = np.pi/(4*mu)    # pi/2\n",
    "G = GS.reshape((dim,1))\n",
    "psiA = Uv(tal,0,0).dot(Uv(t,mu,nu)).dot(G)"
   ]
  },
  {
   "cell_type": "code",
   "execution_count": 143,
   "metadata": {},
   "outputs": [],
   "source": [
    "# Psi teórico\n",
    "\n",
    "def psiT(theta, phi):\n",
    "    ct = np.cos((theta/2)-np.sign(mu)*(np.pi/4))\n",
    "    cp = np.cos((phi/2)-np.sign(nu)*(np.pi/4))\n",
    "    st = np.sin((theta/2)-np.sign(mu)*(np.pi/4))\n",
    "    sp = np.sin((phi/2)-np.sign(nu)*(np.pi/4))\n",
    "    GS = np.zeros((dim,1))\n",
    "    for k in range(N+1):\n",
    "        l = 0\n",
    "        cte = np.sqrt((sci.comb(N,k))/(np.math.factorial(N)*2))\n",
    "        G1 = np.zeros((dim,1))\n",
    "        G2 = np.zeros((dim,1))\n",
    "        for n1 in range(N+1):\n",
    "            for n2 in range(N+1-n1):\n",
    "                for n3 in range(N+1 - n1 - n2):\n",
    "                    n4 = N - n1 - n2 - n3\n",
    "                    if (n1==N-k and n2==0 and n3==k and n4==0):   #(N-k)0k0\n",
    "                        aux1 = l\n",
    "                    if (n1==0 and n2==N-k and n3==0 and n4==k):   #0(N-k)0k\n",
    "                        aux2 = l\n",
    "                    l += 1\n",
    "        G1[aux1,0] = 1.0\n",
    "        G2[aux2,0] = 1.0\n",
    "        GS = GS + cte*((ct**(N-k)*(-st*np.sign(mu)**k))*G1 + (cp**(N-k)*(-sp*np.sign(nu)**k))*G2)\n",
    "    return GS"
   ]
  },
  {
   "cell_type": "code",
   "execution_count": 145,
   "metadata": {},
   "outputs": [
    {
     "name": "stdout",
     "output_type": "stream",
     "text": [
      "[[0. 0. 0. 0. 0. 0. 0. 0. 0. 0. 0. 0. 0. 0. 0. 0. 0. 0. 0. 0. 0. 0. 0. 0.\n",
      "  0. 0. 0. 0. 0. 0. 0. 0. 0. 0. 0. 0. 0. 0. 0. 0. 0. 0. 0. 0. 0. 0. 0. 0.\n",
      "  0. 0. 0. 0. 0. 0. 0. 0.]]\n"
     ]
    }
   ],
   "source": [
    "psi = np.conjugate(psiT(np.pi/2,np.pi/2)).reshape((1,dim))\n",
    "\n",
    "print(psi)"
   ]
  },
  {
   "cell_type": "code",
   "execution_count": 146,
   "metadata": {},
   "outputs": [],
   "source": [
    "# Matrizes\n",
    "\n",
    "N1, N2, N3, N4 = (np.zeros((dim,dim)),\n",
    "                  np.zeros((dim,dim)),\n",
    "                  np.zeros((dim,dim)),\n",
    "                  np.zeros((dim,dim)))\n",
    "\n",
    "c = 0\n",
    "for n1 in range(0,N+1):\n",
    "  for n2 in range(0,N+1-n1):\n",
    "    for n3 in range(0,N+1-n1-n2):\n",
    "      n4 = N - n1 - n2 - n3\n",
    "      l = 0\n",
    "      for m1 in range(0,N+1):\n",
    "        for m2 in range(0,N+1-m1):\n",
    "          for m3 in range(0,N+1-m1-m2):\n",
    "            m4 = N - m1 - m2 - m3\n",
    "                \n",
    "            N1[l,c] = n1*d(m1,n1)*d(m2,n2)*d(m3,n3)*d(m4,n4)\n",
    "            N2[l,c] = n2*d(m1,n1)*d(m2,n2)*d(m3,n3)*d(m4,n4)\n",
    "            N3[l,c] = n3*d(m1,n1)*d(m2,n2)*d(m3,n3)*d(m4,n4)\n",
    "            N4[l,c] = n4*d(m1,n1)*d(m2,n2)*d(m3,n3)*d(m4,n4)\n",
    "            l += 1\n",
    "      c += 1"
   ]
  }
 ],
 "metadata": {
  "kernelspec": {
   "display_name": "Python 3.9.12 ('bolsa')",
   "language": "python",
   "name": "python3"
  },
  "language_info": {
   "codemirror_mode": {
    "name": "ipython",
    "version": 3
   },
   "file_extension": ".py",
   "mimetype": "text/x-python",
   "name": "python",
   "nbconvert_exporter": "python",
   "pygments_lexer": "ipython3",
   "version": "3.9.12"
  },
  "orig_nbformat": 4,
  "vscode": {
   "interpreter": {
    "hash": "4a8e01589c3b2eb65bea03033d16ea1ab68b5053c778824bf48ec1280b29ef74"
   }
  }
 },
 "nbformat": 4,
 "nbformat_minor": 2
}
