{
  "nbformat": 4,
  "nbformat_minor": 0,
  "metadata": {
    "colab": {
      "provenance": []
    },
    "kernelspec": {
      "display_name": "Python 3",
      "name": "python3"
    },
    "language_info": {
      "name": "python"
    }
  },
  "cells": [
    {
      "cell_type": "code",
      "metadata": {
        "id": "lFbE5Xbtsl5g"
      },
      "source": [
        "# Importar bibliotecas\n",
        "\n",
        "import math\n",
        "import numpy as np\n",
        "import matplotlib.pyplot as plt"
      ],
      "execution_count": null,
      "outputs": []
    },
    {
      "cell_type": "code",
      "metadata": {
        "id": "f0k4GeMQugmh"
      },
      "source": [
        "# Parâmetros:\n",
        "\n",
        "N =  60#@param\n",
        "\n",
        "U = 0.17#@param\n",
        "\n",
        "J1 = 1/np.sqrt(2) #@param\n",
        "J3 = 1/np.sqrt(2) #@param\n",
        "\n",
        "e =  0#@param\n",
        "\n",
        "# Dimensão da matriz\n",
        "\n",
        "D = int(((N+2)*(N+1))/2)\n",
        "\n",
        "# função delta\n",
        "\n",
        "def delta(n,m):\n",
        "  if n == m:\n",
        "    return 1\n",
        "  else:\n",
        "    return 0\n",
        "\n",
        "# Estado inicial\n",
        "\n",
        "aux = np.array([0 for i in range(D)])\n",
        "aux[D-1] = 1\n",
        "estado_inicial = aux.reshape(D, 1)"
      ],
      "execution_count": null,
      "outputs": []
    },
    {
      "cell_type": "code",
      "metadata": {
        "id": "x7LBpoTDAdZD"
      },
      "source": [
        "# Hamiltoniano \n",
        "\n",
        "def H(n1, n2, n3, m1, m2, m3):\n",
        "  f1 = delta(n1,m1)*delta(n2,m2)*delta(n3,m3)*U*(n1-n2+n3)**2\n",
        "  f2 = J1*(delta(n1 + 1,m1)*delta(n2 - 1,m2)*delta(n3,m3)*np.sqrt(n2*(n1 + 1)) + delta(n1 - 1,m1)*delta(n2 + 1,m2)*delta(n3,m3)*np.sqrt(n1*(n2 + 1)))\n",
        "  f3 = J3*(delta(n1,m1)*delta(n2 + 1,m2)*delta(n3 - 1,m3)*np.sqrt(n3*(n2 + 1)) + delta(n1,m1)*delta(n2 - 1,m2)*delta(n3 + 1,m3)*np.sqrt(n2*(n3 + 1)))\n",
        "  f4 = e*(n3-n1)*delta(n1,m1)*delta(n3,m3)\n",
        "  return f1 + f2 + f3 + f4  "
      ],
      "execution_count": null,
      "outputs": []
    },
    {
      "cell_type": "code",
      "metadata": {
        "id": "iixZRPKYfjm-"
      },
      "source": [
        "# Matrizes\n",
        "\n",
        "# Matriz Hamiltoniano\n",
        "\n",
        "def Matriz_H(N):\n",
        "  matriz = np.zeros((D,D))\n",
        "  l = 0\n",
        "  c = 0\n",
        "  for n1 in range(N+1):\n",
        "    for n2 in range(N+1-n1):\n",
        "      c = 0\n",
        "      for m1 in range(N+1):\n",
        "        for m2 in range(N+1-m1):\n",
        "          matriz[l][c] = H(m1,m2,N-m1-m2,n1,n2,N-n1-n2)\n",
        "          c += 1\n",
        "      l += 1\n",
        "  return matriz\n",
        "\n",
        "H = Matriz_H(N)\n",
        "\n",
        "# N1\n",
        "\n",
        "def N1(N):\n",
        "  N1 = np.zeros( (D,D) )\n",
        "  l = 0\n",
        "  c = 0\n",
        "  for n1 in range(N+1):\n",
        "    for n2 in range(N+1-n1):\n",
        "      c = 0\n",
        "      for m1 in range(N+1):\n",
        "        for m2 in range(N+1-m1):\n",
        "          N1[l][c] = m1*delta(n1,m1)*delta(n2,m2)\n",
        "          c += 1\n",
        "      l += 1\n",
        "  return N1\n",
        "\n",
        "# N2\n",
        "\n",
        "def N2(N):\n",
        "  N2 = np.zeros( (D,D) )\n",
        "  l = 0\n",
        "  c = 0\n",
        "  for n1 in range(N+1):\n",
        "    for n2 in range(N+1-n1):\n",
        "      c = 0\n",
        "      for m1 in range(N+1):\n",
        "        for m2 in range(N+1-m1):\n",
        "          N2[l][c] = m2*delta(n1,m1)*delta(n2,m2)\n",
        "          c += 1\n",
        "      l += 1\n",
        "  return N2\n",
        "\n",
        "# N3\n",
        "\n",
        "def N3(N):\n",
        "  N3 = np.zeros( (D,D) )\n",
        "  l = 0\n",
        "  c = 0\n",
        "  for n1 in range(N+1):\n",
        "    for n2 in range(N+1-n1):\n",
        "      c = 0\n",
        "      for m1 in range(N+1):\n",
        "        for m2 in range(N+1-m1):\n",
        "          N3[l][c] = (N-m1-m2)*delta(n1,m1)*delta(n2,m2)\n",
        "          c += 1\n",
        "      l += 1\n",
        "  return N3"
      ],
      "execution_count": null,
      "outputs": []
    },
    {
      "cell_type": "code",
      "metadata": {
        "id": "MWApwIwtrT8V"
      },
      "source": [
        "# Extrair os autovalores e autovetores\n",
        "\n",
        "sigma, psi = np.linalg.eigh(H)"
      ],
      "execution_count": null,
      "outputs": []
    },
    {
      "cell_type": "code",
      "metadata": {
        "id": "oxPLHv7VsNlB"
      },
      "source": [
        "# |psi(t)>\n",
        "\n",
        "def ket_t(t):\n",
        "  psi_t = np.zeros((D)).reshape(D,1)\n",
        "  for i in range(D):\n",
        "    arg = complex(0, sigma[i]*t)\n",
        "    bra = psi[:,i].reshape(1,D)\n",
        "    ket = psi[:,i].reshape(D,1)\n",
        "    cte = np.exp(arg)*bra.dot(estado_inicial)[0][0]\n",
        "    psi_t = psi_t + cte*ket\n",
        "  return psi_t\n",
        "\n",
        "#<psi(t)|\n",
        "\n",
        "def bra_t(t):\n",
        "  ket = ket_t(t)\n",
        "  bra = np.conj(ket).reshape(1, D)\n",
        "  return bra"
      ],
      "execution_count": null,
      "outputs": []
    },
    {
      "cell_type": "code",
      "metadata": {
        "id": "mGcFCHRxwHpO"
      },
      "source": [
        "# Valor esperado\n",
        "\n",
        "def valor_esperado(t, NU):\n",
        "  fator1 = bra_t(t).dot(NU(N))\n",
        "  fator2 = fator1.dot(ket_t(t))\n",
        "  return fator2[0][0]/N"
      ],
      "execution_count": null,
      "outputs": []
    },
    {
      "cell_type": "code",
      "metadata": {
        "id": "mP1PSALD5CfB"
      },
      "source": [
        "# plot\n",
        "\n",
        "t_total = 500\n",
        "var = 1000\n",
        "\n",
        "valor_esperado_array_n1 = np.zeros((var))\n",
        "valor_esperado_array_n2 = np.zeros((var))\n",
        "valor_esperado_array_n3 = np.zeros((var))\n",
        "t_array = np.zeros((var)) \n",
        "\n",
        "valor_esperado_array_n1 = np.zeros((var))\n",
        "for i in range(var):\n",
        "  valor_esperado_array_n1[i] = valor_esperado_array_n1[i] + valor_esperado((t_total/var)*i, N1)\n",
        "  valor_esperado_array_n2[i] = valor_esperado_array_n2[i] + valor_esperado((t_total/var)*i, N2)\n",
        "  valor_esperado_array_n3[i] = valor_esperado_array_n3[i] + valor_esperado((t_total/var)*i, N3)\n",
        "  t_array[i] = t_array[i] + (t_total/var)*i"
      ],
      "execution_count": null,
      "outputs": []
    },
    {
      "cell_type": "code",
      "metadata": {
        "id": "lNeKaJMXccBf"
      },
      "source": [
        "# Plot\n",
        "\n",
        "plt.figure()\n",
        "\n",
        "\n",
        "# Gráfico 1\n",
        "\n",
        "axs1 = plt.subplot(311)\n",
        "plt.plot(t_array, valor_esperado_array_n1)\n",
        "plt.ylabel(\"$<n_1>$\")\n",
        "plt. title(\"N = 60 - $\\\\varepsilon = 0.0$ - U = 0.17\")\n",
        "# Gráfico 2\n",
        "\n",
        "plt.subplot(312, sharex = axs1, sharey = axs1)\n",
        "plt.plot(t_array, valor_esperado_array_n2, 'r')\n",
        "plt.ylabel(\"$<n2>$\")\n",
        "\n",
        "# Gráfico 3\n",
        "\n",
        "plt.subplot(313, sharex = axs1, sharey = axs1)\n",
        "plt.plot(t_array, valor_esperado_array_n3, 'c')\n",
        "plt.ylabel(\"$<n3>$\")\n",
        "plt.xlabel(\"t\")\n",
        "\n",
        "# Ajustando a figura\n",
        "\n",
        "plt.subplots_adjust(top = 1.7,\n",
        "                    bottom = 0.08,\n",
        "                    left = 0.10,\n",
        "                    hspace = 0.0,\n",
        "                    wspace = 0.5)"
      ],
      "execution_count": null,
      "outputs": []
    }
  ]
}