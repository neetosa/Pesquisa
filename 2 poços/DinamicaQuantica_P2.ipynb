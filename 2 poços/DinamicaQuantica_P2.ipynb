{
  "nbformat": 4,
  "nbformat_minor": 0,
  "metadata": {
    "colab": {
      "provenance": []
    },
    "kernelspec": {
      "name": "python3",
      "display_name": "Python 3"
    },
    "language_info": {
      "name": "python"
    }
  },
  "cells": [
    {
      "cell_type": "code",
      "metadata": {
        "id": "vBv2t7K3BYpk"
      },
      "source": [
        "# Importação das bibliotecas \n",
        "\n",
        "import math\n",
        "import numpy as np\n",
        "import matplotlib.pyplot as plt\n",
        "import matplotlib as mlp"
      ],
      "execution_count": null,
      "outputs": []
    },
    {
      "cell_type": "code",
      "metadata": {
        "id": "TNDt9vm5BbWP"
      },
      "source": [
        "# função delta\n",
        "\n",
        "def delta(n,m):\n",
        "  if n == m:\n",
        "    return 1\n",
        "  else:\n",
        "    return 0"
      ],
      "execution_count": null,
      "outputs": []
    },
    {
      "cell_type": "code",
      "metadata": {
        "id": "rbrUkN44BeCM"
      },
      "source": [
        "# Parâmetros de controle\n",
        "\n",
        "N = 100\n",
        "mu = 0 \n",
        "K =  1\n",
        "Ej = K\n",
        "\n",
        "# Hamiltoniano\n",
        "\n",
        "def H(n1, n2, m1, m2):\n",
        "  f1 = (K/8)*delta(n1,m1)*delta(n2,m2)*(n1-n2)**2\n",
        "  f2 = - (mu/2)*(n1 - n2)*delta(n1,m1)*delta(n2,m2)\n",
        "  f3 = - (Ej/2)*np.sqrt(n2*(n1 + 1))*delta(n1 + 1, m1)*delta(n2 - 1, m2)\n",
        "  f4 = - (Ej/2)*np.sqrt(n1*(n2 + 1))*delta(n1 - 1, m1)*delta(n2 + 1, m2)\n",
        "  return f1 + f2 + f3 + f4\n",
        "\n",
        "# Matriz do Hamiltoniano\n",
        "\n",
        "def H_matriz(N):\n",
        "  matriz_Hamiltoniano = np.zeros((N+1,N+1))\n",
        "  for i in range(N+1):\n",
        "    for j in range(N+1):\n",
        "      matriz_Hamiltoniano[j][i] = H(j, N-j, i, N-i)\n",
        "  return matriz_Hamiltoniano\n",
        "\n",
        "H = H_matriz(N)\n",
        "\n",
        "\n",
        "# Estado inicial\n",
        "\n",
        "aux = np.array([0 for i in range(N+1)])\n",
        "aux[N] = 1\n",
        "estado_inicial = aux.reshape(N+1, 1)"
      ],
      "execution_count": null,
      "outputs": []
    },
    {
      "cell_type": "code",
      "metadata": {
        "id": "a4Q6WsRlJReN"
      },
      "source": [
        "# Matriz N1:\n",
        "\n",
        "def N1(N):\n",
        "  N1 = np.zeros((N+1,N+1))\n",
        "  for i in range(N+1):\n",
        "    for j in range(N+1):\n",
        "      N1[i][j] = j*delta(i,j)\n",
        "  return N1\n",
        "\n",
        "# Matriz N2\n",
        "\n",
        "def N2(N):\n",
        "  N2 = np.zeros((N+1, N+1))\n",
        "  for i in range(N+1):\n",
        "    for j in range(N+1):\n",
        "      N2[i][j] = (N-j)*delta(i,j)\n",
        "  return N2\n",
        "\n",
        "N1N2 = (N1(N) - N2(N))"
      ],
      "execution_count": null,
      "outputs": []
    },
    {
      "cell_type": "code",
      "metadata": {
        "id": "IlqsWZ2tBgKH"
      },
      "source": [
        "# Extrair os autovalores e autovetores\n",
        "\n",
        "sigma, psi = np.linalg.eigh(H)\n"
      ],
      "execution_count": null,
      "outputs": []
    },
    {
      "cell_type": "code",
      "metadata": {
        "id": "juTohgfkFxIX"
      },
      "source": [
        "# Psi(t):\n",
        "\n",
        "def ket_t(t):\n",
        "  psi_t = np.zeros((N+1)).reshape(N+1,1)\n",
        "  for i in range(N+1):\n",
        "    arg = complex(0, sigma[i]*t)\n",
        "    bra = psi[:,i].reshape(1,N+1)\n",
        "    ket = psi[:,i].reshape(N+1,1)\n",
        "    cte = np.exp(arg)*bra.dot(estado_inicial)[0][0]\n",
        "    psi_t = psi_t + cte*ket\n",
        "  return psi_t\n",
        "\n",
        "def bra_t(t):\n",
        "  ket = ket_t(t)\n",
        "  bra = np.conj(ket).reshape(1, N+1)\n",
        "  return bra"
      ],
      "execution_count": null,
      "outputs": []
    },
    {
      "cell_type": "code",
      "metadata": {
        "id": "zKeVn3EQL94N"
      },
      "source": [
        "# Valor esperado\n",
        "\n",
        "def valor_esperado(t):\n",
        "  fator1 = bra_t(t).dot(N1N2)\n",
        "  fator2 = fator1.dot(ket_t(t))\n",
        "  return fator2[0][0]/N"
      ],
      "execution_count": null,
      "outputs": []
    },
    {
      "cell_type": "code",
      "metadata": {
        "id": "zGLx1DOJceyF"
      },
      "source": [
        "t_total = 20\n",
        "var = 1000\n",
        "\n",
        "t_array1 = np.zeros((var))\n",
        "t_array2 = np.zeros((var))\n",
        "t_array3 = np.zeros((var))\n",
        "\n",
        "# for t in range(var):\n",
        "  # t_array2[t] = t_array2[t] + (t_total/var)*t"
      ],
      "execution_count": null,
      "outputs": []
    },
    {
      "cell_type": "code",
      "metadata": {
        "colab": {
          "base_uri": "https://localhost:8080/"
        },
        "id": "XnJyUYJamPgA",
        "outputId": "7bd0831d-16cc-4e28-f0d5-cd5aa8b40481"
      },
      "source": [
        "# valor_esperado_array100_11 = np.zeros((var))  OK\n",
        "\n",
        "# valor_esperado_array100_12 = np.zeros((var))  OK\n",
        "\n",
        "# valor_esperado_array100_13 = np.zeros((var))  OK\n",
        "\n",
        "# valor_esperado_array100_14 = np.zeros((var))  OK\n",
        "\n",
        "# valor_esperado_array100_15 = np.zeros((var))  OK\n",
        "\n",
        "# valor_esperado_array100_16 = np.zeros((var))  OK\n",
        "\n",
        "# valor_esperado_array100_17 = np.zeros((var))  OK\n",
        "\n",
        "# valor_esperado_array100_18 = np.zeros((var))  OK\n",
        "\n",
        "\n",
        "# for t in range(var):\n",
        "  # valor_esperado_array100_18[t] = valor_esperado_array100_18[t] + valor_esperado((t_total/var)*t)"
      ],
      "execution_count": null,
      "outputs": [
        {
          "output_type": "stream",
          "text": [
            "/usr/local/lib/python3.7/dist-packages/ipykernel_launcher.py:19: ComplexWarning: Casting complex values to real discards the imaginary part\n"
          ],
          "name": "stderr"
        }
      ]
    },
    {
      "cell_type": "code",
      "metadata": {
        "colab": {
          "base_uri": "https://localhost:8080/",
          "height": 522
        },
        "id": "3aTN4H6ynCAo",
        "outputId": "34914fb0-b4d3-49ee-d908-6bc9eb126568"
      },
      "source": [
        "# Plot\n",
        "\n",
        "plt.figure()\n",
        "\n",
        "# Gráfico 1:\n",
        "\n",
        "plt.subplot(421)\n",
        "plt.plot(t_array3, valor_esperado_array100_11, 'g')\n",
        "plt.yticks([-1, 0, 1])\n",
        "\n",
        "# Gráfico 2:\n",
        "\n",
        "plt.subplot(423)\n",
        "plt.plot(t_array3, valor_esperado_array100_12, 'g')\n",
        "plt.yticks([-1, 0, 1])\n",
        "\n",
        "# Gráfico 3:\n",
        "\n",
        "plt.subplot(425)\n",
        "plt.plot(t_array3, valor_esperado_array100_13, 'g')\n",
        "plt.ylabel(\"$<N_1 - N_2>/N$\")\n",
        "plt.yticks([-1, 0, 1])\n",
        "\n",
        "# Gráfico 4:\n",
        "\n",
        "plt.subplot(427)\n",
        "plt.plot(t_array3, valor_esperado_array100_14, 'g')\n",
        "plt.xlabel('t')\n",
        "plt.yticks([0, 0.5, 1])\n",
        "\n",
        "# Gráfico 5:\n",
        "\n",
        "plt.subplot(422)\n",
        "plt.plot(t_array3, valor_esperado_array100_15, 'g')\n",
        "plt.yticks([0.6, 0.8, 1])\n",
        "\n",
        "# Gráfico 6:\n",
        "\n",
        "plt.subplot(424)\n",
        "plt.plot(t_array3, valor_esperado_array100_16, 'g')\n",
        "plt.yticks([0.9, 0.95, 1])\n",
        "\n",
        "# Gráfico 7:\n",
        "\n",
        "plt.subplot(426)\n",
        "plt.plot(t_array2, valor_esperado_array100_17, 'g')\n",
        "plt.yticks([0.997, 0.9985, 1])\n",
        "\n",
        "# Gráfico 8:\n",
        "\n",
        "plt.subplot(428)\n",
        "plt.plot(t_array1, valor_esperado_array100_18, 'g')\n",
        "plt.xlabel('t')\n",
        "plt.yticks([0.9992, 0.9996, 1])\n",
        "\n",
        "# Ajustando a figura\n",
        "\n",
        "plt.subplots_adjust(top = 1.7,\n",
        "                    bottom = 0.1,\n",
        "                    left = 0.10,\n",
        "                    hspace = 0.2,\n",
        "                    wspace = 0.3)"
      ],
      "execution_count": null,
      "outputs": [
        {
          "output_type": "display_data",
          "data": {
            "image/png": "[encoded data removed]",
            "text/plain": [
              "<Figure size 432x288 with 8 Axes>"
            ]
          },
          "metadata": {
            "tags": [],
            "needs_background": "light"
          }
        }
      ]
    },
    {
      "cell_type": "code",
      "metadata": {
        "id": "3QznSdAkMYlw",
        "colab": {
          "base_uri": "https://localhost:8080/",
          "height": 200
        },
        "outputId": "3cd54b65-9412-4b42-8495-0b91db5ba99b"
      },
      "source": [
        "# valor_esperado_array100_1 = np.zeros((var)) OK\n",
        "\n",
        "# valor_esperado_array100_2 = np.zeros((var)) OK\n",
        "\n",
        "# valor_esperado_array100_3 = np.zeros((var)) OK\n",
        "\n",
        "# valor_esperado_array100_4 = np.zeros((var)) OK\n",
        "\n",
        "# valor_esperado_array100_5 = np.zeros((var)) OK\n",
        "\n",
        "# valor_esperado_array400_1 = np.zeros((var)) OK\n",
        "\n",
        "# valor_esperado_array400_2 = np.zeros((var)) OK\n",
        "\n",
        "# valor_esperado_array400_3 = np.zeros((var)) OK   \n",
        "\n",
        "# valor_esperado_array400_4 = np.zeros((var)) OK\n",
        "\n",
        "# valor_esperado_array400_5 = np.zeros((var)) OK\n",
        "\n",
        "for t in range(var):\n",
        "  # valor_esperado_array100_5[t] = valor_esperado_array100_5[t] + valor_esperado((t_total/var)*t)\n",
        "  valor_esperado_array400_5[t] = valor_esperado_array400_5[t] + valor_esperado((t_total/var)*t)"
      ],
      "execution_count": null,
      "outputs": [
        {
          "output_type": "error",
          "ename": "NameError",
          "evalue": "ignored",
          "traceback": [
            "\u001b[0;31m---------------------------------------------------------------------------\u001b[0m",
            "\u001b[0;31mNameError\u001b[0m                                 Traceback (most recent call last)",
            "\u001b[0;32m<ipython-input-154-52106e123a36>\u001b[0m in \u001b[0;36m<module>\u001b[0;34m()\u001b[0m\n\u001b[1;32m     21\u001b[0m \u001b[0;32mfor\u001b[0m \u001b[0mt\u001b[0m \u001b[0;32min\u001b[0m \u001b[0mrange\u001b[0m\u001b[0;34m(\u001b[0m\u001b[0mvar\u001b[0m\u001b[0;34m)\u001b[0m\u001b[0;34m:\u001b[0m\u001b[0;34m\u001b[0m\u001b[0;34m\u001b[0m\u001b[0m\n\u001b[1;32m     22\u001b[0m   \u001b[0;31m# valor_esperado_array100_5[t] = valor_esperado_array100_5[t] + valor_esperado((t_total/var)*t)\u001b[0m\u001b[0;34m\u001b[0m\u001b[0;34m\u001b[0m\u001b[0;34m\u001b[0m\u001b[0m\n\u001b[0;32m---> 23\u001b[0;31m   \u001b[0mvalor_esperado_array400_5\u001b[0m\u001b[0;34m[\u001b[0m\u001b[0mt\u001b[0m\u001b[0;34m]\u001b[0m \u001b[0;34m=\u001b[0m \u001b[0mvalor_esperado_array400_5\u001b[0m\u001b[0;34m[\u001b[0m\u001b[0mt\u001b[0m\u001b[0;34m]\u001b[0m \u001b[0;34m+\u001b[0m \u001b[0mvalor_esperado\u001b[0m\u001b[0;34m(\u001b[0m\u001b[0;34m(\u001b[0m\u001b[0mt_total\u001b[0m\u001b[0;34m/\u001b[0m\u001b[0mvar\u001b[0m\u001b[0;34m)\u001b[0m\u001b[0;34m*\u001b[0m\u001b[0mt\u001b[0m\u001b[0;34m)\u001b[0m\u001b[0;34m\u001b[0m\u001b[0;34m\u001b[0m\u001b[0m\n\u001b[0m",
            "\u001b[0;31mNameError\u001b[0m: name 'valor_esperado_array400_5' is not defined"
          ]
        }
      ]
    },
    {
      "cell_type": "code",
      "metadata": {
        "id": "nms2Fkk9Y-nJ"
      },
      "source": [
        "# Plot\n",
        "\n",
        "plt.figure()\n",
        "\n",
        "# Gráfico 1:\n",
        "\n",
        "plt.subplot(511)\n",
        "plt.plot(t_array1,valor_esperado_array100_1, 'r')      #vermelho\n",
        "plt.plot(t_array1,valor_esperado_array400_1, 'b')      #azul\n",
        "plt.legend((\"N=100\", \"N=400\"), loc=(0.4,1.1))\n",
        "\n",
        "# Gráfico 2:\n",
        "\n",
        "plt.subplot(512)\n",
        "\n",
        "plt.plot(t_array1,valor_esperado_array100_2, 'r')\n",
        "plt.plot(t_array1,valor_esperado_array400_2, 'b')\n",
        "\n",
        "# Gráfico 3:\n",
        "\n",
        "plt.subplot(513)\n",
        "\n",
        "plt.plot(t_array2,valor_esperado_array100_3, 'r')\n",
        "plt.plot(t_array2,valor_esperado_array400_3, 'b')\n",
        "plt.ylim(0.999, 1)\n",
        "plt.ylabel(\"$<N_1 - N_2>/N$\")\n",
        "\n",
        "\n",
        "# Gráfico 4:\n",
        "\n",
        "plt.subplot(514)\n",
        "\n",
        "plt.plot(t_array2,valor_esperado_array100_4, 'r')\n",
        "plt.plot(t_array2,valor_esperado_array400_4, 'b')\n",
        "plt.ylim(0.999, 1.001)\n",
        "\n",
        "# Gráfico 5:\n",
        "\n",
        "plt.subplot(515)\n",
        "\n",
        "plt.plot(t_array2,valor_esperado_array100_5, 'r')\n",
        "plt.plot(t_array2,valor_esperado_array400_5, 'b')\n",
        "plt.ylim(0.999, 1.001)\n",
        "plt.xlabel('t')\n",
        "\n",
        "# Ajustando a figura\n",
        "\n",
        "plt.subplots_adjust(top = 1.7,\n",
        "                    bottom = 0.08,\n",
        "                    left = 0.10,\n",
        "                    hspace = 0.5,\n",
        "                    wspace = 0.5)\n",
        "\n",
        "plt.savefig(\"DinâmicaQuântica_P2\", format = \"png\")\n",
        "fig = plt.gcf()\n",
        "plt.show()\n",
        "fig.savefig(\"DinamicaQuantica_P2.png\", transparent= True)\n",
        "plt.savefig('nome_da_imagem.png')"
      ],
      "execution_count": null,
      "outputs": []
    }
  ]
}